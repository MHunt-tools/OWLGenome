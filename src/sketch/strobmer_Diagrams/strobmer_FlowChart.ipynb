{
 "cells": [
  {
   "cell_type": "code",
   "execution_count": 1,
   "metadata": {},
   "outputs": [
    {
     "name": "stdout",
     "output_type": "stream",
     "text": [
      "Integrated Strobmer-Weighted MinHash Flowchart saved as integrated_strobmer_minhash_flowchart.png\n"
     ]
    }
   ],
   "source": [
    "# generate_integrated_flowchart.py\n",
    "\n",
    "from graphviz import Digraph\n",
    "\n",
    "def create_integrated_flowchart(output_filename='integrated_strobmer_minhash_flowchart', file_format='png'):\n",
    "    \"\"\"\n",
    "    Creates a detailed flowchart for the integrated Strobmer and Weighted MinHash approach.\n",
    "    \n",
    "    Args:\n",
    "        output_filename (str): The name of the output file without extension.\n",
    "        file_format (str): The format of the output file (e.g.,'png').\n",
    "    \n",
    "    Returns:\n",
    "        None\n",
    "    \"\"\"\n",
    "    # Initialize a directed graph\n",
    "    dot = Digraph(comment='Integrated Strobmer and Weighted MinHash Workflow', format=file_format)\n",
    "    \n",
    "    # Define node styles\n",
    "    node_attrs = {\n",
    "        'shape': 'box',\n",
    "        'style': 'rounded,filled',\n",
    "        'color': 'lightblue2',\n",
    "        'fontname': 'Helvetica',\n",
    "        'fontsize': '10'\n",
    "    }\n",
    "    \n",
    "    # Define decision node style\n",
    "    decision_attrs = {\n",
    "        'shape': 'diamond',\n",
    "        'style': 'filled',\n",
    "        'color': 'lightgoldenrod',\n",
    "        'fontname': 'Helvetica',\n",
    "        'fontsize': '10'\n",
    "    }\n",
    "    \n",
    "    # Define start and end node styles\n",
    "    start_end_attrs = {\n",
    "        'shape': 'oval',\n",
    "        'style': 'filled',\n",
    "        'color': 'lightgreen',\n",
    "        'fontname': 'Helvetica',\n",
    "        'fontsize': '10'\n",
    "    }\n",
    "    \n",
    "    # Add nodes w/ input variable descriptions\n",
    "    dot.node('Start', 'Start', **start_end_attrs)\n",
    "    dot.node('LoadSequence', 'Load DNA Sequence\\n(Input: sequence)', **node_attrs)\n",
    "    dot.node('InitializeStrobmer', 'Initialize Strobmer Parameters\\n(k: k-mer size, l: window size, s: spacing, include_revcom)', **node_attrs)\n",
    "    dot.node('GenerateStrobemers', 'Generate Strobemers with Frequencies\\n(Action: Sliding window to extract strobemers and count frequencies)', **node_attrs)\n",
    "    dot.node('InitializeMinHash', 'Initialize Weighted MinHash\\n(Input: num_hashes)', **node_attrs)\n",
    "    dot.node('GenerateGenomeSketch', 'Generate Genome Strobemer Sketch\\n(Input: genome_strobemers_with_freq, WeightedMinHash instance)', **node_attrs)\n",
    "    dot.node('GenerateReadSketch', 'Generate Read Strobemer Sketch\\n(Input: read_strobemers_with_freq, WeightedMinHash instance)', **node_attrs)\n",
    "    dot.node('EstimateSimilarity', 'Estimate Jaccard Similarity\\n(Action: Compare genome and read sketches)', **node_attrs)\n",
    "    dot.node('OutputSimilarity', 'Output Similarity Score\\n(Action: Print or store the similarity)', **node_attrs)\n",
    "    dot.node('End', 'End', **start_end_attrs)\n",
    "    \n",
    "    # Addimg edges with labels indicating flow\n",
    "    dot.edge('Start', 'LoadSequence')\n",
    "    dot.edge('LoadSequence', 'InitializeStrobmer')\n",
    "    dot.edge('InitializeStrobmer', 'GenerateStrobemers')\n",
    "    dot.edge('GenerateStrobemers', 'InitializeMinHash')\n",
    "    dot.edge('InitializeMinHash', 'GenerateGenomeSketch')\n",
    "    dot.edge('InitializeMinHash', 'GenerateReadSketch')  # Reusing the same MinHash instance\n",
    "    dot.edge('GenerateGenomeSketch', 'EstimateSimilarity')\n",
    "    dot.edge('GenerateReadSketch', 'EstimateSimilarity')\n",
    "    dot.edge('EstimateSimilarity', 'OutputSimilarity')\n",
    "    dot.edge('OutputSimilarity', 'End')\n",
    "    \n",
    "    # Render the flowchart\n",
    "    dot.render(output_filename, view=True)\n",
    "    print(f\"Integrated Strobmer-Weighted MinHash Flowchart saved as {output_filename}.{file_format}\")\n",
    "\n",
    "if __name__ == \"__main__\":\n",
    "    create_integrated_flowchart()"
   ]
  }
 ],
 "metadata": {
  "kernelspec": {
   "display_name": "base",
   "language": "python",
   "name": "python3"
  },
  "language_info": {
   "codemirror_mode": {
    "name": "ipython",
    "version": 3
   },
   "file_extension": ".py",
   "mimetype": "text/x-python",
   "name": "python",
   "nbconvert_exporter": "python",
   "pygments_lexer": "ipython3",
   "version": "3.12.4"
  }
 },
 "nbformat": 4,
 "nbformat_minor": 2
}
